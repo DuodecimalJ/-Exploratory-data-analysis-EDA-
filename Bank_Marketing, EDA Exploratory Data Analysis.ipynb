{
 "cells": [
  {
   "cell_type": "markdown",
   "id": "3b4c01f5",
   "metadata": {},
   "source": [
    "# Import 3rd Party Libraries"
   ]
  },
  {
   "cell_type": "code",
   "execution_count": 68,
   "id": "37338a2b",
   "metadata": {},
   "outputs": [],
   "source": [
    "import pandas as pd\n",
    "import numpy as np\n",
    "import seaborn as sns\n",
    "import matplotlib.pyplot as plt"
   ]
  },
  {
   "cell_type": "markdown",
   "id": "91e01d90",
   "metadata": {},
   "source": [
    "# Read CSV Dataset From Marketing Banking"
   ]
  },
  {
   "cell_type": "code",
   "execution_count": 4,
   "id": "b56de175",
   "metadata": {},
   "outputs": [
    {
     "data": {
      "text/html": [
       "<div>\n",
       "<style scoped>\n",
       "    .dataframe tbody tr th:only-of-type {\n",
       "        vertical-align: middle;\n",
       "    }\n",
       "\n",
       "    .dataframe tbody tr th {\n",
       "        vertical-align: top;\n",
       "    }\n",
       "\n",
       "    .dataframe thead th {\n",
       "        text-align: right;\n",
       "    }\n",
       "</style>\n",
       "<table border=\"1\" class=\"dataframe\">\n",
       "  <thead>\n",
       "    <tr style=\"text-align: right;\">\n",
       "      <th></th>\n",
       "      <th>0</th>\n",
       "      <th>age</th>\n",
       "      <th>age group</th>\n",
       "      <th>eligible</th>\n",
       "      <th>jobedu</th>\n",
       "      <th>job</th>\n",
       "      <th>salary</th>\n",
       "      <th>marital</th>\n",
       "      <th>education</th>\n",
       "      <th>marital-education</th>\n",
       "      <th>...</th>\n",
       "      <th>day</th>\n",
       "      <th>month</th>\n",
       "      <th>duration</th>\n",
       "      <th>campaign</th>\n",
       "      <th>pdays</th>\n",
       "      <th>previous</th>\n",
       "      <th>poutcome</th>\n",
       "      <th>y</th>\n",
       "      <th>response</th>\n",
       "      <th>Unnamed: 25</th>\n",
       "    </tr>\n",
       "  </thead>\n",
       "  <tbody>\n",
       "    <tr>\n",
       "      <th>0</th>\n",
       "      <td>1.0</td>\n",
       "      <td>58.0</td>\n",
       "      <td>5</td>\n",
       "      <td>Y</td>\n",
       "      <td>management_tertiary</td>\n",
       "      <td>management</td>\n",
       "      <td>100000</td>\n",
       "      <td>married</td>\n",
       "      <td>tertiary</td>\n",
       "      <td>married-tertiary</td>\n",
       "      <td>...</td>\n",
       "      <td>5</td>\n",
       "      <td>may</td>\n",
       "      <td>261</td>\n",
       "      <td>1</td>\n",
       "      <td>-1</td>\n",
       "      <td>0</td>\n",
       "      <td>unknown</td>\n",
       "      <td>no</td>\n",
       "      <td>0.0</td>\n",
       "      <td>NaN</td>\n",
       "    </tr>\n",
       "    <tr>\n",
       "      <th>1</th>\n",
       "      <td>2.0</td>\n",
       "      <td>44.0</td>\n",
       "      <td>4</td>\n",
       "      <td>Y</td>\n",
       "      <td>technician_secondary</td>\n",
       "      <td>technician</td>\n",
       "      <td>60000</td>\n",
       "      <td>single</td>\n",
       "      <td>secondary</td>\n",
       "      <td>single-secondary</td>\n",
       "      <td>...</td>\n",
       "      <td>5</td>\n",
       "      <td>may</td>\n",
       "      <td>151</td>\n",
       "      <td>1</td>\n",
       "      <td>-1</td>\n",
       "      <td>0</td>\n",
       "      <td>unknown</td>\n",
       "      <td>no</td>\n",
       "      <td>0.0</td>\n",
       "      <td>NaN</td>\n",
       "    </tr>\n",
       "    <tr>\n",
       "      <th>2</th>\n",
       "      <td>3.0</td>\n",
       "      <td>33.0</td>\n",
       "      <td>3</td>\n",
       "      <td>Y</td>\n",
       "      <td>entrepreneur_secondary</td>\n",
       "      <td>entrepreneur</td>\n",
       "      <td>120000</td>\n",
       "      <td>married</td>\n",
       "      <td>secondary</td>\n",
       "      <td>married-secondary</td>\n",
       "      <td>...</td>\n",
       "      <td>5</td>\n",
       "      <td>NaN</td>\n",
       "      <td>76</td>\n",
       "      <td>1</td>\n",
       "      <td>-1</td>\n",
       "      <td>0</td>\n",
       "      <td>unknown</td>\n",
       "      <td>no</td>\n",
       "      <td>0.0</td>\n",
       "      <td>NaN</td>\n",
       "    </tr>\n",
       "    <tr>\n",
       "      <th>3</th>\n",
       "      <td>4.0</td>\n",
       "      <td>47.0</td>\n",
       "      <td>4</td>\n",
       "      <td>Y</td>\n",
       "      <td>blue-collar_unknown</td>\n",
       "      <td>blue-collar</td>\n",
       "      <td>20000</td>\n",
       "      <td>married</td>\n",
       "      <td>unknown</td>\n",
       "      <td>married-unknown</td>\n",
       "      <td>...</td>\n",
       "      <td>5</td>\n",
       "      <td>may</td>\n",
       "      <td>92</td>\n",
       "      <td>1</td>\n",
       "      <td>-1</td>\n",
       "      <td>0</td>\n",
       "      <td>unknown</td>\n",
       "      <td>no</td>\n",
       "      <td>NaN</td>\n",
       "      <td>NaN</td>\n",
       "    </tr>\n",
       "    <tr>\n",
       "      <th>4</th>\n",
       "      <td>5.0</td>\n",
       "      <td>NaN</td>\n",
       "      <td>3</td>\n",
       "      <td>Y</td>\n",
       "      <td>unknown_unknown</td>\n",
       "      <td>unknown</td>\n",
       "      <td>0</td>\n",
       "      <td>single</td>\n",
       "      <td>unknown</td>\n",
       "      <td>single-unknown</td>\n",
       "      <td>...</td>\n",
       "      <td>5</td>\n",
       "      <td>may</td>\n",
       "      <td>198</td>\n",
       "      <td>1</td>\n",
       "      <td>-1</td>\n",
       "      <td>0</td>\n",
       "      <td>unknown</td>\n",
       "      <td>no</td>\n",
       "      <td>0.0</td>\n",
       "      <td>NaN</td>\n",
       "    </tr>\n",
       "  </tbody>\n",
       "</table>\n",
       "<p>5 rows × 26 columns</p>\n",
       "</div>"
      ],
      "text/plain": [
       "     0   age  age group eligible                  jobedu           job  \\\n",
       "0  1.0  58.0          5        Y     management_tertiary    management   \n",
       "1  2.0  44.0          4        Y    technician_secondary    technician   \n",
       "2  3.0  33.0          3        Y  entrepreneur_secondary  entrepreneur   \n",
       "3  4.0  47.0          4        Y     blue-collar_unknown   blue-collar   \n",
       "4  5.0   NaN          3        Y         unknown_unknown       unknown   \n",
       "\n",
       "   salary  marital  education  marital-education  ... day month  duration  \\\n",
       "0  100000  married   tertiary   married-tertiary  ...   5   may       261   \n",
       "1   60000   single  secondary   single-secondary  ...   5   may       151   \n",
       "2  120000  married  secondary  married-secondary  ...   5   NaN        76   \n",
       "3   20000  married    unknown    married-unknown  ...   5   may        92   \n",
       "4       0   single    unknown     single-unknown  ...   5   may       198   \n",
       "\n",
       "  campaign pdays previous  poutcome   y  response  Unnamed: 25  \n",
       "0        1    -1        0   unknown  no       0.0          NaN  \n",
       "1        1    -1        0   unknown  no       0.0          NaN  \n",
       "2        1    -1        0   unknown  no       0.0          NaN  \n",
       "3        1    -1        0   unknown  no       NaN          NaN  \n",
       "4        1    -1        0   unknown  no       0.0          NaN  \n",
       "\n",
       "[5 rows x 26 columns]"
      ]
     },
     "execution_count": 4,
     "metadata": {},
     "output_type": "execute_result"
    }
   ],
   "source": [
    "df = pd.read_csv(r'C:\\Users\\user\\Desktop\\bank test.csv',skiprows =2)\n",
    "df.head()"
   ]
  },
  {
   "cell_type": "markdown",
   "id": "27a279dd",
   "metadata": {},
   "source": [
    "# Drop the Tile 0 Column as Redundancy considered"
   ]
  },
  {
   "cell_type": "code",
   "execution_count": 5,
   "id": "de391fa3",
   "metadata": {},
   "outputs": [],
   "source": [
    "df.drop('0',axis =1, inplace = True)"
   ]
  },
  {
   "cell_type": "code",
   "execution_count": 6,
   "id": "64dc81dd",
   "metadata": {},
   "outputs": [
    {
     "data": {
      "text/html": [
       "<div>\n",
       "<style scoped>\n",
       "    .dataframe tbody tr th:only-of-type {\n",
       "        vertical-align: middle;\n",
       "    }\n",
       "\n",
       "    .dataframe tbody tr th {\n",
       "        vertical-align: top;\n",
       "    }\n",
       "\n",
       "    .dataframe thead th {\n",
       "        text-align: right;\n",
       "    }\n",
       "</style>\n",
       "<table border=\"1\" class=\"dataframe\">\n",
       "  <thead>\n",
       "    <tr style=\"text-align: right;\">\n",
       "      <th></th>\n",
       "      <th>age</th>\n",
       "      <th>age group</th>\n",
       "      <th>eligible</th>\n",
       "      <th>jobedu</th>\n",
       "      <th>job</th>\n",
       "      <th>salary</th>\n",
       "      <th>marital</th>\n",
       "      <th>education</th>\n",
       "      <th>marital-education</th>\n",
       "      <th>targeted</th>\n",
       "      <th>...</th>\n",
       "      <th>day</th>\n",
       "      <th>month</th>\n",
       "      <th>duration</th>\n",
       "      <th>campaign</th>\n",
       "      <th>pdays</th>\n",
       "      <th>previous</th>\n",
       "      <th>poutcome</th>\n",
       "      <th>y</th>\n",
       "      <th>response</th>\n",
       "      <th>Unnamed: 25</th>\n",
       "    </tr>\n",
       "  </thead>\n",
       "  <tbody>\n",
       "    <tr>\n",
       "      <th>0</th>\n",
       "      <td>58.0</td>\n",
       "      <td>5</td>\n",
       "      <td>Y</td>\n",
       "      <td>management_tertiary</td>\n",
       "      <td>management</td>\n",
       "      <td>100000</td>\n",
       "      <td>married</td>\n",
       "      <td>tertiary</td>\n",
       "      <td>married-tertiary</td>\n",
       "      <td>yes</td>\n",
       "      <td>...</td>\n",
       "      <td>5</td>\n",
       "      <td>may</td>\n",
       "      <td>261</td>\n",
       "      <td>1</td>\n",
       "      <td>-1</td>\n",
       "      <td>0</td>\n",
       "      <td>unknown</td>\n",
       "      <td>no</td>\n",
       "      <td>0.0</td>\n",
       "      <td>NaN</td>\n",
       "    </tr>\n",
       "    <tr>\n",
       "      <th>1</th>\n",
       "      <td>44.0</td>\n",
       "      <td>4</td>\n",
       "      <td>Y</td>\n",
       "      <td>technician_secondary</td>\n",
       "      <td>technician</td>\n",
       "      <td>60000</td>\n",
       "      <td>single</td>\n",
       "      <td>secondary</td>\n",
       "      <td>single-secondary</td>\n",
       "      <td>yes</td>\n",
       "      <td>...</td>\n",
       "      <td>5</td>\n",
       "      <td>may</td>\n",
       "      <td>151</td>\n",
       "      <td>1</td>\n",
       "      <td>-1</td>\n",
       "      <td>0</td>\n",
       "      <td>unknown</td>\n",
       "      <td>no</td>\n",
       "      <td>0.0</td>\n",
       "      <td>NaN</td>\n",
       "    </tr>\n",
       "    <tr>\n",
       "      <th>2</th>\n",
       "      <td>33.0</td>\n",
       "      <td>3</td>\n",
       "      <td>Y</td>\n",
       "      <td>entrepreneur_secondary</td>\n",
       "      <td>entrepreneur</td>\n",
       "      <td>120000</td>\n",
       "      <td>married</td>\n",
       "      <td>secondary</td>\n",
       "      <td>married-secondary</td>\n",
       "      <td>yes</td>\n",
       "      <td>...</td>\n",
       "      <td>5</td>\n",
       "      <td>NaN</td>\n",
       "      <td>76</td>\n",
       "      <td>1</td>\n",
       "      <td>-1</td>\n",
       "      <td>0</td>\n",
       "      <td>unknown</td>\n",
       "      <td>no</td>\n",
       "      <td>0.0</td>\n",
       "      <td>NaN</td>\n",
       "    </tr>\n",
       "    <tr>\n",
       "      <th>3</th>\n",
       "      <td>47.0</td>\n",
       "      <td>4</td>\n",
       "      <td>Y</td>\n",
       "      <td>blue-collar_unknown</td>\n",
       "      <td>blue-collar</td>\n",
       "      <td>20000</td>\n",
       "      <td>married</td>\n",
       "      <td>unknown</td>\n",
       "      <td>married-unknown</td>\n",
       "      <td>no</td>\n",
       "      <td>...</td>\n",
       "      <td>5</td>\n",
       "      <td>may</td>\n",
       "      <td>92</td>\n",
       "      <td>1</td>\n",
       "      <td>-1</td>\n",
       "      <td>0</td>\n",
       "      <td>unknown</td>\n",
       "      <td>no</td>\n",
       "      <td>NaN</td>\n",
       "      <td>NaN</td>\n",
       "    </tr>\n",
       "    <tr>\n",
       "      <th>4</th>\n",
       "      <td>NaN</td>\n",
       "      <td>3</td>\n",
       "      <td>Y</td>\n",
       "      <td>unknown_unknown</td>\n",
       "      <td>unknown</td>\n",
       "      <td>0</td>\n",
       "      <td>single</td>\n",
       "      <td>unknown</td>\n",
       "      <td>single-unknown</td>\n",
       "      <td>no</td>\n",
       "      <td>...</td>\n",
       "      <td>5</td>\n",
       "      <td>may</td>\n",
       "      <td>198</td>\n",
       "      <td>1</td>\n",
       "      <td>-1</td>\n",
       "      <td>0</td>\n",
       "      <td>unknown</td>\n",
       "      <td>no</td>\n",
       "      <td>0.0</td>\n",
       "      <td>NaN</td>\n",
       "    </tr>\n",
       "    <tr>\n",
       "      <th>...</th>\n",
       "      <td>...</td>\n",
       "      <td>...</td>\n",
       "      <td>...</td>\n",
       "      <td>...</td>\n",
       "      <td>...</td>\n",
       "      <td>...</td>\n",
       "      <td>...</td>\n",
       "      <td>...</td>\n",
       "      <td>...</td>\n",
       "      <td>...</td>\n",
       "      <td>...</td>\n",
       "      <td>...</td>\n",
       "      <td>...</td>\n",
       "      <td>...</td>\n",
       "      <td>...</td>\n",
       "      <td>...</td>\n",
       "      <td>...</td>\n",
       "      <td>...</td>\n",
       "      <td>...</td>\n",
       "      <td>...</td>\n",
       "      <td>...</td>\n",
       "    </tr>\n",
       "    <tr>\n",
       "      <th>45206</th>\n",
       "      <td>51.0</td>\n",
       "      <td>5</td>\n",
       "      <td>Y</td>\n",
       "      <td>technician_tertiary</td>\n",
       "      <td>technician</td>\n",
       "      <td>60000</td>\n",
       "      <td>married</td>\n",
       "      <td>tertiary</td>\n",
       "      <td>married-tertiary</td>\n",
       "      <td>yes</td>\n",
       "      <td>...</td>\n",
       "      <td>17</td>\n",
       "      <td>nov</td>\n",
       "      <td>977</td>\n",
       "      <td>3</td>\n",
       "      <td>-1</td>\n",
       "      <td>0</td>\n",
       "      <td>unknown</td>\n",
       "      <td>yes</td>\n",
       "      <td>1.0</td>\n",
       "      <td>NaN</td>\n",
       "    </tr>\n",
       "    <tr>\n",
       "      <th>45207</th>\n",
       "      <td>71.0</td>\n",
       "      <td>7</td>\n",
       "      <td>N</td>\n",
       "      <td>retired_primary</td>\n",
       "      <td>retired</td>\n",
       "      <td>55000</td>\n",
       "      <td>divorced</td>\n",
       "      <td>primary</td>\n",
       "      <td>divorced-primary</td>\n",
       "      <td>yes</td>\n",
       "      <td>...</td>\n",
       "      <td>17</td>\n",
       "      <td>nov</td>\n",
       "      <td>456</td>\n",
       "      <td>2</td>\n",
       "      <td>-1</td>\n",
       "      <td>0</td>\n",
       "      <td>unknown</td>\n",
       "      <td>yes</td>\n",
       "      <td>1.0</td>\n",
       "      <td>NaN</td>\n",
       "    </tr>\n",
       "    <tr>\n",
       "      <th>45208</th>\n",
       "      <td>72.0</td>\n",
       "      <td>7</td>\n",
       "      <td>N</td>\n",
       "      <td>retired_secondary</td>\n",
       "      <td>retired</td>\n",
       "      <td>55000</td>\n",
       "      <td>married</td>\n",
       "      <td>secondary</td>\n",
       "      <td>married-secondary</td>\n",
       "      <td>yes</td>\n",
       "      <td>...</td>\n",
       "      <td>17</td>\n",
       "      <td>nov</td>\n",
       "      <td>1127</td>\n",
       "      <td>5</td>\n",
       "      <td>184</td>\n",
       "      <td>3</td>\n",
       "      <td>success</td>\n",
       "      <td>yes</td>\n",
       "      <td>1.0</td>\n",
       "      <td>NaN</td>\n",
       "    </tr>\n",
       "    <tr>\n",
       "      <th>45209</th>\n",
       "      <td>57.0</td>\n",
       "      <td>5</td>\n",
       "      <td>Y</td>\n",
       "      <td>blue-collar_secondary</td>\n",
       "      <td>blue-collar</td>\n",
       "      <td>20000</td>\n",
       "      <td>married</td>\n",
       "      <td>secondary</td>\n",
       "      <td>married-secondary</td>\n",
       "      <td>yes</td>\n",
       "      <td>...</td>\n",
       "      <td>17</td>\n",
       "      <td>nov</td>\n",
       "      <td>508</td>\n",
       "      <td>4</td>\n",
       "      <td>-1</td>\n",
       "      <td>0</td>\n",
       "      <td>unknown</td>\n",
       "      <td>no</td>\n",
       "      <td>0.0</td>\n",
       "      <td>NaN</td>\n",
       "    </tr>\n",
       "    <tr>\n",
       "      <th>45210</th>\n",
       "      <td>37.0</td>\n",
       "      <td>3</td>\n",
       "      <td>Y</td>\n",
       "      <td>entrepreneur_secondary</td>\n",
       "      <td>entrepreneur</td>\n",
       "      <td>120000</td>\n",
       "      <td>married</td>\n",
       "      <td>secondary</td>\n",
       "      <td>married-secondary</td>\n",
       "      <td>yes</td>\n",
       "      <td>...</td>\n",
       "      <td>17</td>\n",
       "      <td>nov</td>\n",
       "      <td>361</td>\n",
       "      <td>2</td>\n",
       "      <td>188</td>\n",
       "      <td>11</td>\n",
       "      <td>other</td>\n",
       "      <td>no</td>\n",
       "      <td>0.0</td>\n",
       "      <td>NaN</td>\n",
       "    </tr>\n",
       "  </tbody>\n",
       "</table>\n",
       "<p>45211 rows × 25 columns</p>\n",
       "</div>"
      ],
      "text/plain": [
       "        age  age group eligible                  jobedu           job  salary  \\\n",
       "0      58.0          5        Y     management_tertiary    management  100000   \n",
       "1      44.0          4        Y    technician_secondary    technician   60000   \n",
       "2      33.0          3        Y  entrepreneur_secondary  entrepreneur  120000   \n",
       "3      47.0          4        Y     blue-collar_unknown   blue-collar   20000   \n",
       "4       NaN          3        Y         unknown_unknown       unknown       0   \n",
       "...     ...        ...      ...                     ...           ...     ...   \n",
       "45206  51.0          5        Y     technician_tertiary    technician   60000   \n",
       "45207  71.0          7        N         retired_primary       retired   55000   \n",
       "45208  72.0          7        N       retired_secondary       retired   55000   \n",
       "45209  57.0          5        Y   blue-collar_secondary   blue-collar   20000   \n",
       "45210  37.0          3        Y  entrepreneur_secondary  entrepreneur  120000   \n",
       "\n",
       "        marital  education  marital-education targeted  ... day  month  \\\n",
       "0       married   tertiary   married-tertiary      yes  ...   5    may   \n",
       "1        single  secondary   single-secondary      yes  ...   5    may   \n",
       "2       married  secondary  married-secondary      yes  ...   5    NaN   \n",
       "3       married    unknown    married-unknown       no  ...   5    may   \n",
       "4        single    unknown     single-unknown       no  ...   5    may   \n",
       "...         ...        ...                ...      ...  ...  ..    ...   \n",
       "45206   married   tertiary   married-tertiary      yes  ...  17    nov   \n",
       "45207  divorced    primary   divorced-primary      yes  ...  17    nov   \n",
       "45208   married  secondary  married-secondary      yes  ...  17    nov   \n",
       "45209   married  secondary  married-secondary      yes  ...  17    nov   \n",
       "45210   married  secondary  married-secondary      yes  ...  17    nov   \n",
       "\n",
       "      duration campaign pdays  previous poutcome    y  response  Unnamed: 25  \n",
       "0          261        1    -1         0  unknown   no       0.0          NaN  \n",
       "1          151        1    -1         0  unknown   no       0.0          NaN  \n",
       "2           76        1    -1         0  unknown   no       0.0          NaN  \n",
       "3           92        1    -1         0  unknown   no       NaN          NaN  \n",
       "4          198        1    -1         0  unknown   no       0.0          NaN  \n",
       "...        ...      ...   ...       ...      ...  ...       ...          ...  \n",
       "45206      977        3    -1         0  unknown  yes       1.0          NaN  \n",
       "45207      456        2    -1         0  unknown  yes       1.0          NaN  \n",
       "45208     1127        5   184         3  success  yes       1.0          NaN  \n",
       "45209      508        4    -1         0  unknown   no       0.0          NaN  \n",
       "45210      361        2   188        11    other   no       0.0          NaN  \n",
       "\n",
       "[45211 rows x 25 columns]"
      ]
     },
     "execution_count": 6,
     "metadata": {},
     "output_type": "execute_result"
    }
   ],
   "source": [
    "df"
   ]
  },
  {
   "cell_type": "markdown",
   "id": "8aa59a7f",
   "metadata": {},
   "source": [
    "# Drop Column jobedu From Dataset"
   ]
  },
  {
   "cell_type": "code",
   "execution_count": 10,
   "id": "f042915b",
   "metadata": {},
   "outputs": [],
   "source": [
    "df.drop(\"jobedu\", axis = 1, inplace = True)"
   ]
  },
  {
   "cell_type": "markdown",
   "id": "33404d99",
   "metadata": {},
   "source": [
    "# Split Jobedu as 2 Seperated Columns"
   ]
  },
  {
   "cell_type": "code",
   "execution_count": 8,
   "id": "e063d2a4",
   "metadata": {},
   "outputs": [],
   "source": [
    "df['job'] = df['jobedu'].apply(lambda x: x.split(\"_\")[0])\n",
    "df['education'] = df['jobedu'].apply(lambda x: x.split(\"_\")[1])"
   ]
  },
  {
   "cell_type": "code",
   "execution_count": 11,
   "id": "15587b87",
   "metadata": {},
   "outputs": [
    {
     "data": {
      "text/html": [
       "<div>\n",
       "<style scoped>\n",
       "    .dataframe tbody tr th:only-of-type {\n",
       "        vertical-align: middle;\n",
       "    }\n",
       "\n",
       "    .dataframe tbody tr th {\n",
       "        vertical-align: top;\n",
       "    }\n",
       "\n",
       "    .dataframe thead th {\n",
       "        text-align: right;\n",
       "    }\n",
       "</style>\n",
       "<table border=\"1\" class=\"dataframe\">\n",
       "  <thead>\n",
       "    <tr style=\"text-align: right;\">\n",
       "      <th></th>\n",
       "      <th>age</th>\n",
       "      <th>age group</th>\n",
       "      <th>eligible</th>\n",
       "      <th>job</th>\n",
       "      <th>salary</th>\n",
       "      <th>marital</th>\n",
       "      <th>education</th>\n",
       "      <th>marital-education</th>\n",
       "      <th>targeted</th>\n",
       "      <th>default</th>\n",
       "      <th>...</th>\n",
       "      <th>day</th>\n",
       "      <th>month</th>\n",
       "      <th>duration</th>\n",
       "      <th>campaign</th>\n",
       "      <th>pdays</th>\n",
       "      <th>previous</th>\n",
       "      <th>poutcome</th>\n",
       "      <th>y</th>\n",
       "      <th>response</th>\n",
       "      <th>Unnamed: 25</th>\n",
       "    </tr>\n",
       "  </thead>\n",
       "  <tbody>\n",
       "    <tr>\n",
       "      <th>0</th>\n",
       "      <td>58.0</td>\n",
       "      <td>5</td>\n",
       "      <td>Y</td>\n",
       "      <td>management</td>\n",
       "      <td>100000</td>\n",
       "      <td>married</td>\n",
       "      <td>tertiary</td>\n",
       "      <td>married-tertiary</td>\n",
       "      <td>yes</td>\n",
       "      <td>no</td>\n",
       "      <td>...</td>\n",
       "      <td>5</td>\n",
       "      <td>may</td>\n",
       "      <td>261</td>\n",
       "      <td>1</td>\n",
       "      <td>-1</td>\n",
       "      <td>0</td>\n",
       "      <td>unknown</td>\n",
       "      <td>no</td>\n",
       "      <td>0.0</td>\n",
       "      <td>NaN</td>\n",
       "    </tr>\n",
       "    <tr>\n",
       "      <th>1</th>\n",
       "      <td>44.0</td>\n",
       "      <td>4</td>\n",
       "      <td>Y</td>\n",
       "      <td>technician</td>\n",
       "      <td>60000</td>\n",
       "      <td>single</td>\n",
       "      <td>secondary</td>\n",
       "      <td>single-secondary</td>\n",
       "      <td>yes</td>\n",
       "      <td>no</td>\n",
       "      <td>...</td>\n",
       "      <td>5</td>\n",
       "      <td>may</td>\n",
       "      <td>151</td>\n",
       "      <td>1</td>\n",
       "      <td>-1</td>\n",
       "      <td>0</td>\n",
       "      <td>unknown</td>\n",
       "      <td>no</td>\n",
       "      <td>0.0</td>\n",
       "      <td>NaN</td>\n",
       "    </tr>\n",
       "    <tr>\n",
       "      <th>2</th>\n",
       "      <td>33.0</td>\n",
       "      <td>3</td>\n",
       "      <td>Y</td>\n",
       "      <td>entrepreneur</td>\n",
       "      <td>120000</td>\n",
       "      <td>married</td>\n",
       "      <td>secondary</td>\n",
       "      <td>married-secondary</td>\n",
       "      <td>yes</td>\n",
       "      <td>no</td>\n",
       "      <td>...</td>\n",
       "      <td>5</td>\n",
       "      <td>NaN</td>\n",
       "      <td>76</td>\n",
       "      <td>1</td>\n",
       "      <td>-1</td>\n",
       "      <td>0</td>\n",
       "      <td>unknown</td>\n",
       "      <td>no</td>\n",
       "      <td>0.0</td>\n",
       "      <td>NaN</td>\n",
       "    </tr>\n",
       "    <tr>\n",
       "      <th>3</th>\n",
       "      <td>47.0</td>\n",
       "      <td>4</td>\n",
       "      <td>Y</td>\n",
       "      <td>blue-collar</td>\n",
       "      <td>20000</td>\n",
       "      <td>married</td>\n",
       "      <td>unknown</td>\n",
       "      <td>married-unknown</td>\n",
       "      <td>no</td>\n",
       "      <td>no</td>\n",
       "      <td>...</td>\n",
       "      <td>5</td>\n",
       "      <td>may</td>\n",
       "      <td>92</td>\n",
       "      <td>1</td>\n",
       "      <td>-1</td>\n",
       "      <td>0</td>\n",
       "      <td>unknown</td>\n",
       "      <td>no</td>\n",
       "      <td>NaN</td>\n",
       "      <td>NaN</td>\n",
       "    </tr>\n",
       "    <tr>\n",
       "      <th>4</th>\n",
       "      <td>NaN</td>\n",
       "      <td>3</td>\n",
       "      <td>Y</td>\n",
       "      <td>unknown</td>\n",
       "      <td>0</td>\n",
       "      <td>single</td>\n",
       "      <td>unknown</td>\n",
       "      <td>single-unknown</td>\n",
       "      <td>no</td>\n",
       "      <td>no</td>\n",
       "      <td>...</td>\n",
       "      <td>5</td>\n",
       "      <td>may</td>\n",
       "      <td>198</td>\n",
       "      <td>1</td>\n",
       "      <td>-1</td>\n",
       "      <td>0</td>\n",
       "      <td>unknown</td>\n",
       "      <td>no</td>\n",
       "      <td>0.0</td>\n",
       "      <td>NaN</td>\n",
       "    </tr>\n",
       "    <tr>\n",
       "      <th>...</th>\n",
       "      <td>...</td>\n",
       "      <td>...</td>\n",
       "      <td>...</td>\n",
       "      <td>...</td>\n",
       "      <td>...</td>\n",
       "      <td>...</td>\n",
       "      <td>...</td>\n",
       "      <td>...</td>\n",
       "      <td>...</td>\n",
       "      <td>...</td>\n",
       "      <td>...</td>\n",
       "      <td>...</td>\n",
       "      <td>...</td>\n",
       "      <td>...</td>\n",
       "      <td>...</td>\n",
       "      <td>...</td>\n",
       "      <td>...</td>\n",
       "      <td>...</td>\n",
       "      <td>...</td>\n",
       "      <td>...</td>\n",
       "      <td>...</td>\n",
       "    </tr>\n",
       "    <tr>\n",
       "      <th>45206</th>\n",
       "      <td>51.0</td>\n",
       "      <td>5</td>\n",
       "      <td>Y</td>\n",
       "      <td>technician</td>\n",
       "      <td>60000</td>\n",
       "      <td>married</td>\n",
       "      <td>tertiary</td>\n",
       "      <td>married-tertiary</td>\n",
       "      <td>yes</td>\n",
       "      <td>no</td>\n",
       "      <td>...</td>\n",
       "      <td>17</td>\n",
       "      <td>nov</td>\n",
       "      <td>977</td>\n",
       "      <td>3</td>\n",
       "      <td>-1</td>\n",
       "      <td>0</td>\n",
       "      <td>unknown</td>\n",
       "      <td>yes</td>\n",
       "      <td>1.0</td>\n",
       "      <td>NaN</td>\n",
       "    </tr>\n",
       "    <tr>\n",
       "      <th>45207</th>\n",
       "      <td>71.0</td>\n",
       "      <td>7</td>\n",
       "      <td>N</td>\n",
       "      <td>retired</td>\n",
       "      <td>55000</td>\n",
       "      <td>divorced</td>\n",
       "      <td>primary</td>\n",
       "      <td>divorced-primary</td>\n",
       "      <td>yes</td>\n",
       "      <td>no</td>\n",
       "      <td>...</td>\n",
       "      <td>17</td>\n",
       "      <td>nov</td>\n",
       "      <td>456</td>\n",
       "      <td>2</td>\n",
       "      <td>-1</td>\n",
       "      <td>0</td>\n",
       "      <td>unknown</td>\n",
       "      <td>yes</td>\n",
       "      <td>1.0</td>\n",
       "      <td>NaN</td>\n",
       "    </tr>\n",
       "    <tr>\n",
       "      <th>45208</th>\n",
       "      <td>72.0</td>\n",
       "      <td>7</td>\n",
       "      <td>N</td>\n",
       "      <td>retired</td>\n",
       "      <td>55000</td>\n",
       "      <td>married</td>\n",
       "      <td>secondary</td>\n",
       "      <td>married-secondary</td>\n",
       "      <td>yes</td>\n",
       "      <td>no</td>\n",
       "      <td>...</td>\n",
       "      <td>17</td>\n",
       "      <td>nov</td>\n",
       "      <td>1127</td>\n",
       "      <td>5</td>\n",
       "      <td>184</td>\n",
       "      <td>3</td>\n",
       "      <td>success</td>\n",
       "      <td>yes</td>\n",
       "      <td>1.0</td>\n",
       "      <td>NaN</td>\n",
       "    </tr>\n",
       "    <tr>\n",
       "      <th>45209</th>\n",
       "      <td>57.0</td>\n",
       "      <td>5</td>\n",
       "      <td>Y</td>\n",
       "      <td>blue-collar</td>\n",
       "      <td>20000</td>\n",
       "      <td>married</td>\n",
       "      <td>secondary</td>\n",
       "      <td>married-secondary</td>\n",
       "      <td>yes</td>\n",
       "      <td>no</td>\n",
       "      <td>...</td>\n",
       "      <td>17</td>\n",
       "      <td>nov</td>\n",
       "      <td>508</td>\n",
       "      <td>4</td>\n",
       "      <td>-1</td>\n",
       "      <td>0</td>\n",
       "      <td>unknown</td>\n",
       "      <td>no</td>\n",
       "      <td>0.0</td>\n",
       "      <td>NaN</td>\n",
       "    </tr>\n",
       "    <tr>\n",
       "      <th>45210</th>\n",
       "      <td>37.0</td>\n",
       "      <td>3</td>\n",
       "      <td>Y</td>\n",
       "      <td>entrepreneur</td>\n",
       "      <td>120000</td>\n",
       "      <td>married</td>\n",
       "      <td>secondary</td>\n",
       "      <td>married-secondary</td>\n",
       "      <td>yes</td>\n",
       "      <td>no</td>\n",
       "      <td>...</td>\n",
       "      <td>17</td>\n",
       "      <td>nov</td>\n",
       "      <td>361</td>\n",
       "      <td>2</td>\n",
       "      <td>188</td>\n",
       "      <td>11</td>\n",
       "      <td>other</td>\n",
       "      <td>no</td>\n",
       "      <td>0.0</td>\n",
       "      <td>NaN</td>\n",
       "    </tr>\n",
       "  </tbody>\n",
       "</table>\n",
       "<p>45211 rows × 24 columns</p>\n",
       "</div>"
      ],
      "text/plain": [
       "        age  age group eligible           job  salary   marital  education  \\\n",
       "0      58.0          5        Y    management  100000   married   tertiary   \n",
       "1      44.0          4        Y    technician   60000    single  secondary   \n",
       "2      33.0          3        Y  entrepreneur  120000   married  secondary   \n",
       "3      47.0          4        Y   blue-collar   20000   married    unknown   \n",
       "4       NaN          3        Y       unknown       0    single    unknown   \n",
       "...     ...        ...      ...           ...     ...       ...        ...   \n",
       "45206  51.0          5        Y    technician   60000   married   tertiary   \n",
       "45207  71.0          7        N       retired   55000  divorced    primary   \n",
       "45208  72.0          7        N       retired   55000   married  secondary   \n",
       "45209  57.0          5        Y   blue-collar   20000   married  secondary   \n",
       "45210  37.0          3        Y  entrepreneur  120000   married  secondary   \n",
       "\n",
       "       marital-education targeted default  ...  day month duration campaign  \\\n",
       "0       married-tertiary      yes      no  ...    5   may      261        1   \n",
       "1       single-secondary      yes      no  ...    5   may      151        1   \n",
       "2      married-secondary      yes      no  ...    5   NaN       76        1   \n",
       "3        married-unknown       no      no  ...    5   may       92        1   \n",
       "4         single-unknown       no      no  ...    5   may      198        1   \n",
       "...                  ...      ...     ...  ...  ...   ...      ...      ...   \n",
       "45206   married-tertiary      yes      no  ...   17   nov      977        3   \n",
       "45207   divorced-primary      yes      no  ...   17   nov      456        2   \n",
       "45208  married-secondary      yes      no  ...   17   nov     1127        5   \n",
       "45209  married-secondary      yes      no  ...   17   nov      508        4   \n",
       "45210  married-secondary      yes      no  ...   17   nov      361        2   \n",
       "\n",
       "       pdays previous  poutcome    y  response  Unnamed: 25  \n",
       "0         -1        0   unknown   no       0.0          NaN  \n",
       "1         -1        0   unknown   no       0.0          NaN  \n",
       "2         -1        0   unknown   no       0.0          NaN  \n",
       "3         -1        0   unknown   no       NaN          NaN  \n",
       "4         -1        0   unknown   no       0.0          NaN  \n",
       "...      ...      ...       ...  ...       ...          ...  \n",
       "45206     -1        0   unknown  yes       1.0          NaN  \n",
       "45207     -1        0   unknown  yes       1.0          NaN  \n",
       "45208    184        3   success  yes       1.0          NaN  \n",
       "45209     -1        0   unknown   no       0.0          NaN  \n",
       "45210    188       11     other   no       0.0          NaN  \n",
       "\n",
       "[45211 rows x 24 columns]"
      ]
     },
     "execution_count": 11,
     "metadata": {},
     "output_type": "execute_result"
    }
   ],
   "source": [
    "df"
   ]
  },
  {
   "cell_type": "markdown",
   "id": "1c96cde7",
   "metadata": {},
   "source": [
    "# Checking the Missing Values"
   ]
  },
  {
   "cell_type": "code",
   "execution_count": 13,
   "id": "cbf9131c",
   "metadata": {},
   "outputs": [
    {
     "data": {
      "text/plain": [
       "age                     17\n",
       "age group                0\n",
       "eligible                 0\n",
       "job                      0\n",
       "salary                   0\n",
       "marital                  0\n",
       "education                0\n",
       "marital-education        0\n",
       "targeted                 0\n",
       "default                  0\n",
       "balance                  0\n",
       "housing                  0\n",
       "loan                     0\n",
       "contact                  0\n",
       "day                      0\n",
       "month                   18\n",
       "duration                 0\n",
       "campaign                 0\n",
       "pdays                    0\n",
       "previous                 0\n",
       "poutcome                 0\n",
       "y                        0\n",
       "response                17\n",
       "Unnamed: 25          45211\n",
       "dtype: int64"
      ]
     },
     "execution_count": 13,
     "metadata": {},
     "output_type": "execute_result"
    }
   ],
   "source": [
    "df.isnull().sum()"
   ]
  },
  {
   "cell_type": "markdown",
   "id": "8abad791",
   "metadata": {},
   "source": [
    "# Drop the Records From Age That's Without Values"
   ]
  },
  {
   "cell_type": "code",
   "execution_count": 14,
   "id": "7ff14b52",
   "metadata": {},
   "outputs": [],
   "source": [
    "df= df[~df.age.isnull()].copy()"
   ]
  },
  {
   "cell_type": "markdown",
   "id": "70d03222",
   "metadata": {},
   "source": [
    "# Checking the Missing Value From Age"
   ]
  },
  {
   "cell_type": "code",
   "execution_count": 15,
   "id": "775cf12a",
   "metadata": {},
   "outputs": [
    {
     "data": {
      "text/plain": [
       "age                      0\n",
       "age group                0\n",
       "eligible                 0\n",
       "job                      0\n",
       "salary                   0\n",
       "marital                  0\n",
       "education                0\n",
       "marital-education        0\n",
       "targeted                 0\n",
       "default                  0\n",
       "balance                  0\n",
       "housing                  0\n",
       "loan                     0\n",
       "contact                  0\n",
       "day                      0\n",
       "month                   16\n",
       "duration                 0\n",
       "campaign                 0\n",
       "pdays                    0\n",
       "previous                 0\n",
       "poutcome                 0\n",
       "y                        0\n",
       "response                17\n",
       "Unnamed: 25          45194\n",
       "dtype: int64"
      ]
     },
     "execution_count": 15,
     "metadata": {},
     "output_type": "execute_result"
    }
   ],
   "source": [
    "df.isnull().sum()"
   ]
  },
  {
   "cell_type": "markdown",
   "id": "7c8c83e6",
   "metadata": {},
   "source": [
    "# Find the Mode of Data in Month"
   ]
  },
  {
   "cell_type": "code",
   "execution_count": 12,
   "id": "6711f240",
   "metadata": {},
   "outputs": [
    {
     "name": "stdout",
     "output_type": "stream",
     "text": [
      "may\n"
     ]
    }
   ],
   "source": [
    "month = df.month.mode()[0]\n",
    "print(month)"
   ]
  },
  {
   "cell_type": "markdown",
   "id": "82b2ba13",
   "metadata": {},
   "source": [
    "# Fill In the Missing Value "
   ]
  },
  {
   "cell_type": "code",
   "execution_count": 16,
   "id": "3cf863da",
   "metadata": {},
   "outputs": [],
   "source": [
    "df.month.fillna(month, inplace = True)"
   ]
  },
  {
   "cell_type": "markdown",
   "id": "089846ea",
   "metadata": {},
   "source": [
    "# Check the Values missing if Added"
   ]
  },
  {
   "cell_type": "code",
   "execution_count": 17,
   "id": "f11b256a",
   "metadata": {},
   "outputs": [
    {
     "data": {
      "text/plain": [
       "0"
      ]
     },
     "execution_count": 17,
     "metadata": {},
     "output_type": "execute_result"
    }
   ],
   "source": [
    "df.month.isnull().sum()"
   ]
  },
  {
   "cell_type": "markdown",
   "id": "dc9cdb88",
   "metadata": {},
   "source": [
    "# Handling Outliers"
   ]
  },
  {
   "cell_type": "code",
   "execution_count": 19,
   "id": "87b0adc4",
   "metadata": {},
   "outputs": [
    {
     "data": {
      "text/plain": [
       "age                      0\n",
       "age group                0\n",
       "eligible                 0\n",
       "job                      0\n",
       "salary                   0\n",
       "marital                  0\n",
       "education                0\n",
       "marital-education        0\n",
       "targeted                 0\n",
       "default                  0\n",
       "balance                  0\n",
       "housing                  0\n",
       "loan                     0\n",
       "contact                  0\n",
       "day                      0\n",
       "month                    0\n",
       "duration                 0\n",
       "campaign                 0\n",
       "pdays                    0\n",
       "previous                 0\n",
       "poutcome                 0\n",
       "y                        0\n",
       "response                17\n",
       "Unnamed: 25          45194\n",
       "dtype: int64"
      ]
     },
     "execution_count": 19,
     "metadata": {},
     "output_type": "execute_result"
    }
   ],
   "source": [
    "df.isnull().sum()"
   ]
  },
  {
   "cell_type": "markdown",
   "id": "a8582aea",
   "metadata": {},
   "source": [
    "# Drop the Records From Response That's Without Values"
   ]
  },
  {
   "cell_type": "code",
   "execution_count": 21,
   "id": "3c7ed7a9",
   "metadata": {},
   "outputs": [],
   "source": [
    "df = df[~df.response.isnull()].copy()"
   ]
  },
  {
   "cell_type": "markdown",
   "id": "fb79c702",
   "metadata": {},
   "source": [
    "# Recheck The Missing Values in Each Columns"
   ]
  },
  {
   "cell_type": "code",
   "execution_count": 23,
   "id": "5e9e8d22",
   "metadata": {},
   "outputs": [
    {
     "data": {
      "text/plain": [
       "age                      0\n",
       "age group                0\n",
       "eligible                 0\n",
       "job                      0\n",
       "salary                   0\n",
       "marital                  0\n",
       "education                0\n",
       "marital-education        0\n",
       "targeted                 0\n",
       "default                  0\n",
       "balance                  0\n",
       "housing                  0\n",
       "loan                     0\n",
       "contact                  0\n",
       "day                      0\n",
       "month                    0\n",
       "duration                 0\n",
       "campaign                 0\n",
       "pdays                    0\n",
       "previous                 0\n",
       "poutcome                 0\n",
       "y                        0\n",
       "response                 0\n",
       "Unnamed: 25          45177\n",
       "dtype: int64"
      ]
     },
     "execution_count": 23,
     "metadata": {},
     "output_type": "execute_result"
    }
   ],
   "source": [
    "df.isnull().sum()"
   ]
  },
  {
   "cell_type": "markdown",
   "id": "17838799",
   "metadata": {},
   "source": [
    "# Univariate Analysis"
   ]
  },
  {
   "cell_type": "code",
   "execution_count": null,
   "id": "fd666bcc",
   "metadata": {},
   "outputs": [],
   "source": [
    "# Calculate % of Each Job Status Categories"
   ]
  },
  {
   "cell_type": "code",
   "execution_count": null,
   "id": "184236d1",
   "metadata": {},
   "outputs": [],
   "source": [
    "df.job.value_counts(normalize = True)"
   ]
  },
  {
   "cell_type": "markdown",
   "id": "1643d605",
   "metadata": {},
   "source": [
    "# Illustrate The Percentage of Each Job Categories Via Bar"
   ]
  },
  {
   "cell_type": "code",
   "execution_count": 24,
   "id": "b7e49da2",
   "metadata": {},
   "outputs": [
    {
     "data": {
      "image/png": "[encoded data removed]",
      "text/plain": [
       "<Figure size 432x288 with 1 Axes>"
      ]
     },
     "metadata": {
      "needs_background": "light"
     },
     "output_type": "display_data"
    }
   ],
   "source": [
    "df.job.value_counts(normalize = True).plot.barh()\n",
    "plt.show()"
   ]
  },
  {
   "cell_type": "markdown",
   "id": "76817417",
   "metadata": {},
   "source": [
    "# Illustrate The Percentage of Each Job Categories Via Pie"
   ]
  },
  {
   "cell_type": "code",
   "execution_count": null,
   "id": "36ecb084",
   "metadata": {},
   "outputs": [],
   "source": [
    "# Calculate % of Each Job Status Categories"
   ]
  },
  {
   "cell_type": "code",
   "execution_count": 27,
   "id": "f7193a59",
   "metadata": {},
   "outputs": [
    {
     "data": {
      "text/plain": [
       "secondary    0.513181\n",
       "tertiary     0.294243\n",
       "primary      0.151537\n",
       "unknown      0.041039\n",
       "Name: education, dtype: float64"
      ]
     },
     "execution_count": 27,
     "metadata": {},
     "output_type": "execute_result"
    }
   ],
   "source": [
    "df.education.value_counts(normalize = True)"
   ]
  },
  {
   "cell_type": "code",
   "execution_count": 30,
   "id": "cc30b43a",
   "metadata": {},
   "outputs": [
    {
     "data": {
      "image/png": "[encoded data removed]",
      "text/plain": [
       "<Figure size 432x288 with 1 Axes>"
      ]
     },
     "metadata": {},
     "output_type": "display_data"
    }
   ],
   "source": [
    "df.education.value_counts(normalize = True).plot.pie()\n",
    "plt.show()"
   ]
  },
  {
   "cell_type": "code",
   "execution_count": 29,
   "id": "c7509c75",
   "metadata": {},
   "outputs": [
    {
     "data": {
      "text/plain": [
       "count     45177.000000\n",
       "mean      57006.374925\n",
       "std       32087.409176\n",
       "min           0.000000\n",
       "25%       20000.000000\n",
       "50%       60000.000000\n",
       "75%       70000.000000\n",
       "max      120000.000000\n",
       "Name: salary, dtype: float64"
      ]
     },
     "execution_count": 29,
     "metadata": {},
     "output_type": "execute_result"
    }
   ],
   "source": [
    "df.salary.describe()"
   ]
  },
  {
   "cell_type": "markdown",
   "id": "c46fcf9b",
   "metadata": {},
   "source": [
    "# Bivariate Analysis"
   ]
  },
  {
   "cell_type": "code",
   "execution_count": null,
   "id": "66c1f691",
   "metadata": {},
   "outputs": [],
   "source": [
    "# Numerical Analysis"
   ]
  },
  {
   "cell_type": "markdown",
   "id": "65bed922",
   "metadata": {},
   "source": [
    "# Scatter Plot"
   ]
  },
  {
   "cell_type": "code",
   "execution_count": null,
   "id": "fa71d3b5",
   "metadata": {},
   "outputs": [],
   "source": [
    "# Illustrate the Scatter Plot of Balance and Salary Variable in Dataset"
   ]
  },
  {
   "cell_type": "code",
   "execution_count": 31,
   "id": "87f4bdfe",
   "metadata": {},
   "outputs": [
    {
     "data": {
      "image/png": "[encoded data removed]",
      "text/plain": [
       "<Figure size 432x288 with 1 Axes>"
      ]
     },
     "metadata": {
      "needs_background": "light"
     },
     "output_type": "display_data"
    }
   ],
   "source": [
    "plt.scatter(df.salary,df.balance)\n",
    "plt.show()"
   ]
  },
  {
   "cell_type": "markdown",
   "id": "0e07a6cf",
   "metadata": {},
   "source": [
    "# Illustrate the Scatter Plot of Balance and Age Variable in Dataset"
   ]
  },
  {
   "cell_type": "code",
   "execution_count": 33,
   "id": "f2e20c95",
   "metadata": {},
   "outputs": [
    {
     "data": {
      "image/png": "[encoded data removed]",
      "text/plain": [
       "<Figure size 432x288 with 1 Axes>"
      ]
     },
     "metadata": {
      "needs_background": "light"
     },
     "output_type": "display_data"
    }
   ],
   "source": [
    "df.plot.scatter(x = \"age\", y = \"balance\")\n",
    "plt.show()"
   ]
  },
  {
   "cell_type": "markdown",
   "id": "b95c7765",
   "metadata": {},
   "source": [
    "# Pair Plot"
   ]
  },
  {
   "cell_type": "code",
   "execution_count": null,
   "id": "9808b236",
   "metadata": {},
   "outputs": [],
   "source": [
    "# Illustrate the pair plot of Salary, Balance and Age in Dataset"
   ]
  },
  {
   "cell_type": "code",
   "execution_count": 43,
   "id": "58aadefd",
   "metadata": {},
   "outputs": [
    {
     "data": {
      "image/png": "[encoded data removed]",
      "text/plain": [
       "<Figure size 540x540 with 12 Axes>"
      ]
     },
     "metadata": {
      "needs_background": "light"
     },
     "output_type": "display_data"
    }
   ],
   "source": [
    "sns.pairplot(data = df, vars= ['salary','balance','age'])\n",
    "plt.show()"
   ]
  },
  {
   "cell_type": "markdown",
   "id": "6189d8b5",
   "metadata": {},
   "source": [
    "# Correlation Matrix"
   ]
  },
  {
   "cell_type": "code",
   "execution_count": null,
   "id": "2bd040a6",
   "metadata": {},
   "outputs": [],
   "source": [
    "# Creating a Matrix using age, salary, balance as rows and columns"
   ]
  },
  {
   "cell_type": "code",
   "execution_count": 50,
   "id": "4986cdd4",
   "metadata": {},
   "outputs": [
    {
     "data": {
      "text/html": [
       "<div>\n",
       "<style scoped>\n",
       "    .dataframe tbody tr th:only-of-type {\n",
       "        vertical-align: middle;\n",
       "    }\n",
       "\n",
       "    .dataframe tbody tr th {\n",
       "        vertical-align: top;\n",
       "    }\n",
       "\n",
       "    .dataframe thead th {\n",
       "        text-align: right;\n",
       "    }\n",
       "</style>\n",
       "<table border=\"1\" class=\"dataframe\">\n",
       "  <thead>\n",
       "    <tr style=\"text-align: right;\">\n",
       "      <th></th>\n",
       "      <th>age</th>\n",
       "      <th>salary</th>\n",
       "      <th>balance</th>\n",
       "    </tr>\n",
       "  </thead>\n",
       "  <tbody>\n",
       "    <tr>\n",
       "      <th>age</th>\n",
       "      <td>1.000000</td>\n",
       "      <td>0.024287</td>\n",
       "      <td>0.098159</td>\n",
       "    </tr>\n",
       "    <tr>\n",
       "      <th>salary</th>\n",
       "      <td>0.024287</td>\n",
       "      <td>1.000000</td>\n",
       "      <td>0.055535</td>\n",
       "    </tr>\n",
       "    <tr>\n",
       "      <th>balance</th>\n",
       "      <td>0.098159</td>\n",
       "      <td>0.055535</td>\n",
       "      <td>1.000000</td>\n",
       "    </tr>\n",
       "  </tbody>\n",
       "</table>\n",
       "</div>"
      ],
      "text/plain": [
       "              age    salary   balance\n",
       "age      1.000000  0.024287  0.098159\n",
       "salary   0.024287  1.000000  0.055535\n",
       "balance  0.098159  0.055535  1.000000"
      ]
     },
     "execution_count": 50,
     "metadata": {},
     "output_type": "execute_result"
    }
   ],
   "source": [
    "df[['age','salary','balance']].corr()"
   ]
  },
  {
   "cell_type": "code",
   "execution_count": null,
   "id": "efdf1d45",
   "metadata": {},
   "outputs": [],
   "source": [
    "# Plot the correlation Matrix of salary,balance, and age in Dataset"
   ]
  },
  {
   "cell_type": "code",
   "execution_count": null,
   "id": "41104b6e",
   "metadata": {},
   "outputs": [],
   "source": [
    "# Plot the correlation Matrix of salary,balance,and age in Dataset"
   ]
  },
  {
   "cell_type": "code",
   "execution_count": 56,
   "id": "ee9822b7",
   "metadata": {},
   "outputs": [
    {
     "ename": "AttributeError",
     "evalue": "'AxesSubplot' object has no attribute 'corr'",
     "output_type": "error",
     "traceback": [
      "\u001b[1;31m---------------------------------------------------------------------------\u001b[0m",
      "\u001b[1;31mAttributeError\u001b[0m                            Traceback (most recent call last)",
      "\u001b[1;32m~\\AppData\\Local\\Temp/ipykernel_20284/313641431.py\u001b[0m in \u001b[0;36m<module>\u001b[1;34m\u001b[0m\n\u001b[1;32m----> 1\u001b[1;33m \u001b[0msns\u001b[0m\u001b[1;33m.\u001b[0m\u001b[0mheatmap\u001b[0m\u001b[1;33m(\u001b[0m\u001b[0mdf\u001b[0m\u001b[1;33m[\u001b[0m\u001b[1;33m[\u001b[0m\u001b[1;34m'age'\u001b[0m\u001b[1;33m,\u001b[0m\u001b[1;34m'salary'\u001b[0m\u001b[1;33m,\u001b[0m\u001b[1;34m'balance'\u001b[0m\u001b[1;33m]\u001b[0m\u001b[1;33m]\u001b[0m\u001b[1;33m)\u001b[0m\u001b[1;33m.\u001b[0m\u001b[0mcorr\u001b[0m\u001b[1;33m(\u001b[0m\u001b[1;33m)\u001b[0m\u001b[1;33m\u001b[0m\u001b[1;33m\u001b[0m\u001b[0m\n\u001b[0m",
      "\u001b[1;31mAttributeError\u001b[0m: 'AxesSubplot' object has no attribute 'corr'"
     ]
    },
    {
     "data": {
      "image/png": "[encoded data removed]",
      "text/plain": [
       "<Figure size 432x288 with 2 Axes>"
      ]
     },
     "metadata": {
      "needs_background": "light"
     },
     "output_type": "display_data"
    }
   ],
   "source": [
    "sns.heatmap(df[['age','salary','balance']]).corr()"
   ]
  },
  {
   "cell_type": "code",
   "execution_count": 61,
   "id": "ff55c305",
   "metadata": {},
   "outputs": [
    {
     "data": {
      "text/plain": [
       "<AxesSubplot:>"
      ]
     },
     "execution_count": 61,
     "metadata": {},
     "output_type": "execute_result"
    },
    {
     "data": {
      "image/png": "[encoded data removed]",
      "text/plain": [
       "<Figure size 432x288 with 2 Axes>"
      ]
     },
     "metadata": {
      "needs_background": "light"
     },
     "output_type": "display_data"
    }
   ],
   "source": [
    "sns.heatmap(df[['age','salary','balance']].corr(), cmap= 'Blues', annot=True)"
   ]
  },
  {
   "cell_type": "markdown",
   "id": "2f68ef37",
   "metadata": {},
   "source": [
    "# Numeric- Categorical Analysis"
   ]
  },
  {
   "cell_type": "code",
   "execution_count": null,
   "id": "18332358",
   "metadata": {},
   "outputs": [],
   "source": [
    "#Groupby the response to find the mean of the salary with reply seperately, 0=No, 1=Yes"
   ]
  },
  {
   "cell_type": "code",
   "execution_count": 62,
   "id": "34402c25",
   "metadata": {},
   "outputs": [
    {
     "data": {
      "text/plain": [
       "response\n",
       "0.0    56772.399098\n",
       "1.0    58771.704180\n",
       "Name: salary, dtype: float64"
      ]
     },
     "execution_count": 62,
     "metadata": {},
     "output_type": "execute_result"
    }
   ],
   "source": [
    "df.groupby('response')['salary'].mean()"
   ]
  },
  {
   "cell_type": "code",
   "execution_count": null,
   "id": "25293ef9",
   "metadata": {},
   "outputs": [],
   "source": [
    "#Groupby the response to find the median of the salary with reply seperately, 0=No, 1=Yes"
   ]
  },
  {
   "cell_type": "code",
   "execution_count": 63,
   "id": "2174d91b",
   "metadata": {},
   "outputs": [
    {
     "data": {
      "text/plain": [
       "response\n",
       "0.0    60000.0\n",
       "1.0    60000.0\n",
       "Name: salary, dtype: float64"
      ]
     },
     "execution_count": 63,
     "metadata": {},
     "output_type": "execute_result"
    }
   ],
   "source": [
    "df.groupby('response')['salary'].median()"
   ]
  },
  {
   "cell_type": "code",
   "execution_count": null,
   "id": "b90e0fe2",
   "metadata": {},
   "outputs": [],
   "source": [
    "#Illustrate the box plot of salary, 0=No, 1=Yes"
   ]
  },
  {
   "cell_type": "code",
   "execution_count": 64,
   "id": "77229a8f",
   "metadata": {},
   "outputs": [
    {
     "name": "stderr",
     "output_type": "stream",
     "text": [
      "C:\\Users\\user\\anaconda3\\lib\\site-packages\\seaborn\\_decorators.py:36: FutureWarning: Pass the following variables as keyword args: x, y. From version 0.12, the only valid positional argument will be `data`, and passing other arguments without an explicit keyword will result in an error or misinterpretation.\n",
      "  warnings.warn(\n"
     ]
    },
    {
     "data": {
      "image/png": "[encoded data removed]",
      "text/plain": [
       "<Figure size 432x288 with 1 Axes>"
      ]
     },
     "metadata": {
      "needs_background": "light"
     },
     "output_type": "display_data"
    }
   ],
   "source": [
    "sns.boxplot(df.response,df.salary)\n",
    "plt.show()"
   ]
  },
  {
   "cell_type": "markdown",
   "id": "6fd05198",
   "metadata": {},
   "source": [
    "# Categorical-Categorical Analysis"
   ]
  },
  {
   "cell_type": "code",
   "execution_count": null,
   "id": "6fff5009",
   "metadata": {},
   "outputs": [],
   "source": [
    "#Illustrate response_rate of numerical data type where response \"yes\" =1, \"no\" =0"
   ]
  },
  {
   "cell_type": "code",
   "execution_count": 70,
   "id": "202bf448",
   "metadata": {},
   "outputs": [
    {
     "data": {
      "text/plain": [
       "0    45177\n",
       "Name: response_rate, dtype: int64"
      ]
     },
     "execution_count": 70,
     "metadata": {},
     "output_type": "execute_result"
    }
   ],
   "source": [
    "df['response_rate'] = np.where(df.response=='yes',1,0)\n",
    "df.response_rate.value_counts()"
   ]
  },
  {
   "cell_type": "code",
   "execution_count": null,
   "id": "b07eff53",
   "metadata": {},
   "outputs": [],
   "source": [
    "#Illustrate the bar graph of marital status with average of response_rate"
   ]
  },
  {
   "cell_type": "code",
   "execution_count": 72,
   "id": "f6508fc6",
   "metadata": {},
   "outputs": [
    {
     "data": {
      "image/png": "[encoded data removed]",
      "text/plain": [
       "<Figure size 432x288 with 1 Axes>"
      ]
     },
     "metadata": {
      "needs_background": "light"
     },
     "output_type": "display_data"
    }
   ],
   "source": [
    "df.groupby(\"marital\")['response'].mean().plot.bar()\n",
    "plt.show()"
   ]
  },
  {
   "cell_type": "markdown",
   "id": "b0c8f299",
   "metadata": {},
   "source": [
    "# Multivariate Analysis"
   ]
  },
  {
   "cell_type": "code",
   "execution_count": 77,
   "id": "224f78ff",
   "metadata": {},
   "outputs": [
    {
     "name": "stdout",
     "output_type": "stream",
     "text": [
      "marital    divorced   married    single\n",
      "education                              \n",
      "primary    0.138667  0.075529  0.106682\n",
      "secondary  0.103448  0.094781  0.129140\n",
      "tertiary   0.138189  0.129817  0.183678\n",
      "unknown    0.142012  0.122519  0.161597\n"
     ]
    },
    {
     "data": {
      "text/plain": [
       "<AxesSubplot:xlabel='marital', ylabel='education'>"
      ]
     },
     "execution_count": 77,
     "metadata": {},
     "output_type": "execute_result"
    },
    {
     "data": {
      "image/png": "[encoded data removed]",
      "text/plain": [
       "<Figure size 432x288 with 2 Axes>"
      ]
     },
     "metadata": {
      "needs_background": "light"
     },
     "output_type": "display_data"
    }
   ],
   "source": [
    "result = pd.pivot_table(data=df, index='education',columns='marital',values='response')\n",
    "print(result)\n",
    "\n",
    "#Illustrate heatmap of education vs marital vs response\n",
    "sns.heatmap(result, annot= True, cmap= 'GnBu',center=0.117)"
   ]
  }
 ],
 "metadata": {
  "kernelspec": {
   "display_name": "Python 3 (ipykernel)",
   "language": "python",
   "name": "python3"
  },
  "language_info": {
   "codemirror_mode": {
    "name": "ipython",
    "version": 3
   },
   "file_extension": ".py",
   "mimetype": "text/x-python",
   "name": "python",
   "nbconvert_exporter": "python",
   "pygments_lexer": "ipython3",
   "version": "3.9.7"
  }
 },
 "nbformat": 4,
 "nbformat_minor": 5
}
